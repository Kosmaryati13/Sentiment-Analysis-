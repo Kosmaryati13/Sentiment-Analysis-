{
 "cells": [
  {
   "cell_type": "markdown",
   "id": "e74d0796",
   "metadata": {},
   "source": [
    "## <center><font color=\"brown\">ANALISIS SENTIMEN 'BBM'</font></center>"
   ]
  },
  {
   "cell_type": "markdown",
   "id": "fcd16f0f",
   "metadata": {},
   "source": [
    "## 1. Data Collecting\n",
    "\n",
    "Collecting data pada media sosial twitter menggunakan Library <a href=\"https://www.freecodecamp.org/news/python-web-scraping-tutorial/\" target=\"_blank\"><strong>snscrape</strong></a>.\n"
   ]
  },
  {
   "cell_type": "code",
   "execution_count": 1,
   "id": "b3c6f5ad",
   "metadata": {},
   "outputs": [
    {
     "name": "stdout",
     "output_type": "stream",
     "text": [
      "Requirement already satisfied: snscrape in c:\\users\\asus\\anaconda3\\lib\\site-packages (0.4.3.20220106)\n",
      "Requirement already satisfied: requests[socks] in c:\\users\\asus\\anaconda3\\lib\\site-packages (from snscrape) (2.27.1)\n",
      "Requirement already satisfied: filelock in c:\\users\\asus\\anaconda3\\lib\\site-packages (from snscrape) (3.6.0)\n",
      "Requirement already satisfied: lxml in c:\\users\\asus\\anaconda3\\lib\\site-packages (from snscrape) (4.8.0)\n",
      "Requirement already satisfied: beautifulsoup4 in c:\\users\\asus\\anaconda3\\lib\\site-packages (from snscrape) (4.11.1)\n",
      "Requirement already satisfied: soupsieve>1.2 in c:\\users\\asus\\anaconda3\\lib\\site-packages (from beautifulsoup4->snscrape) (2.3.1)\n",
      "Requirement already satisfied: certifi>=2017.4.17 in c:\\users\\asus\\anaconda3\\lib\\site-packages (from requests[socks]->snscrape) (2021.10.8)\n",
      "Requirement already satisfied: urllib3<1.27,>=1.21.1 in c:\\users\\asus\\anaconda3\\lib\\site-packages (from requests[socks]->snscrape) (1.26.9)\n",
      "Requirement already satisfied: idna<4,>=2.5 in c:\\users\\asus\\anaconda3\\lib\\site-packages (from requests[socks]->snscrape) (2.10)\n",
      "Requirement already satisfied: charset-normalizer~=2.0.0 in c:\\users\\asus\\anaconda3\\lib\\site-packages (from requests[socks]->snscrape) (2.0.4)\n",
      "Requirement already satisfied: PySocks!=1.5.7,>=1.5.6 in c:\\users\\asus\\anaconda3\\lib\\site-packages (from requests[socks]->snscrape) (1.7.1)\n"
     ]
    }
   ],
   "source": [
    "!pip3 install snscrape"
   ]
  },
  {
   "cell_type": "code",
   "execution_count": 2,
   "id": "bd8b5d0d",
   "metadata": {},
   "outputs": [],
   "source": [
    "import snscrape.modules.twitter as sntwitter\n",
    "import pandas as pd\n",
    "import csv\n",
    "import os, re, string, pickle\n",
    "import numpy as np\n",
    "#import matplotlib.pyplot as plt\n",
    "#import seaborn as sns"
   ]
  },
  {
   "cell_type": "markdown",
   "id": "4749af22",
   "metadata": {},
   "source": [
    "Collecting data twitter tentang \"BBM\" dengan batas total 3000 data."
   ]
  },
  {
   "cell_type": "code",
   "execution_count": 3,
   "id": "9327f068",
   "metadata": {},
   "outputs": [],
   "source": [
    "# Creating list to append tweet data to\n",
    "tweets_list2 = []\n",
    "\n",
    "# Using TwitterSearchScraper to scrape data and append tweets to list\n",
    "for i,tweet in enumerate(sntwitter.TwitterSearchScraper('BBM lang:id since:2022-09-15 until:2022-10-15').get_items()):\n",
    "    if i>3000:\n",
    "        break\n",
    "    tweets_list2.append([tweet.date, tweet.id, tweet.content, tweet.user.username, tweet.likeCount, tweet.retweetCount, tweet.user.location])\n",
    "    \n",
    "# Creating a dataframe from the tweets list above\n",
    "TweetBBM = pd.DataFrame(tweets_list2, columns=['Datetime', 'Tweet Id', 'Tweet', 'Username', 'Total Favorite', 'Total Retweet', 'Lokasi'])"
   ]
  },
  {
   "cell_type": "markdown",
   "id": "7e684b5c",
   "metadata": {},
   "source": [
    "### Data Understanding\n",
    "Fungsi Pandas `.info()` digunakan untuk mendapatkan ringkasan singkat dari sebuah data frame. Fungsi `.info()` sangat berguna saat melakukan analisis eksplorasi data. "
   ]
  },
  {
   "cell_type": "code",
   "execution_count": 4,
   "id": "68f4b2e9",
   "metadata": {},
   "outputs": [
    {
     "name": "stdout",
     "output_type": "stream",
     "text": [
      "<class 'pandas.core.frame.DataFrame'>\n",
      "RangeIndex: 3001 entries, 0 to 3000\n",
      "Data columns (total 7 columns):\n",
      " #   Column          Non-Null Count  Dtype              \n",
      "---  ------          --------------  -----              \n",
      " 0   Datetime        3001 non-null   datetime64[ns, UTC]\n",
      " 1   Tweet Id        3001 non-null   int64              \n",
      " 2   Tweet           3001 non-null   object             \n",
      " 3   Username        3001 non-null   object             \n",
      " 4   Total Favorite  3001 non-null   int64              \n",
      " 5   Total Retweet   3001 non-null   int64              \n",
      " 6   Lokasi          3001 non-null   object             \n",
      "dtypes: datetime64[ns, UTC](1), int64(3), object(3)\n",
      "memory usage: 164.2+ KB\n"
     ]
    }
   ],
   "source": [
    "TweetBBM.info()"
   ]
  },
  {
   "cell_type": "markdown",
   "id": "00541f1a",
   "metadata": {},
   "source": [
    "Didapatkan hasil ringkasan sebagai berikut:\n",
    "* Terdapat 7 kolom dalam dataframe. \n",
    "* <a href=\"https://belajarpython.com/tutorial/tipe-data-python\" target=\"_blank\"><strong>Tipe data</strong></a> dari kolom: satu kolom bertipe data **datetime**, 3 kolom bertipe data **integer**, dan 3 kolom bertipe data **object**.\n",
    "* Tidak terdapat <a href=\"https://www.dqlab.id/digital-transformation-pahami-teknik-pengolahan-ini-dalam-industri-data\" target=\"_blank\"><strong>missing value</strong></a> , karena setiap kolom memiliki jumlah 3001 baris.\n"
   ]
  },
  {
   "cell_type": "markdown",
   "id": "3fbb6632",
   "metadata": {},
   "source": [
    "### Hasil Data Collecting\n",
    "Fungsi `sample()` menampilkan <a href=\"https://pandas.pydata.org/docs/reference/api/pandas.DataFrame.sample.html?highlight=sample#pandas.DataFrame.sample\" target=\"_blank\"><strong>sampel</strong></a> acak dari dataframe."
   ]
  },
  {
   "cell_type": "code",
   "execution_count": 6,
   "id": "0c7bd569",
   "metadata": {},
   "outputs": [
    {
     "data": {
      "text/html": [
       "<div>\n",
       "<style scoped>\n",
       "    .dataframe tbody tr th:only-of-type {\n",
       "        vertical-align: middle;\n",
       "    }\n",
       "\n",
       "    .dataframe tbody tr th {\n",
       "        vertical-align: top;\n",
       "    }\n",
       "\n",
       "    .dataframe thead th {\n",
       "        text-align: right;\n",
       "    }\n",
       "</style>\n",
       "<table border=\"1\" class=\"dataframe\">\n",
       "  <thead>\n",
       "    <tr style=\"text-align: right;\">\n",
       "      <th></th>\n",
       "      <th>Datetime</th>\n",
       "      <th>Tweet Id</th>\n",
       "      <th>Tweet</th>\n",
       "      <th>Username</th>\n",
       "      <th>Total Favorite</th>\n",
       "      <th>Total Retweet</th>\n",
       "      <th>Lokasi</th>\n",
       "    </tr>\n",
       "  </thead>\n",
       "  <tbody>\n",
       "    <tr>\n",
       "      <th>1363</th>\n",
       "      <td>2022-10-14 10:27:51+00:00</td>\n",
       "      <td>1580867979142909952</td>\n",
       "      <td>Sudah jelas banget nih BPH Migas Tegaskan Kual...</td>\n",
       "      <td>ztstrw</td>\n",
       "      <td>0</td>\n",
       "      <td>0</td>\n",
       "      <td></td>\n",
       "    </tr>\n",
       "    <tr>\n",
       "      <th>1639</th>\n",
       "      <td>2022-10-14 09:37:22+00:00</td>\n",
       "      <td>1580855273903689728</td>\n",
       "      <td>CARI BISNIS YG TEPAT,bisnis HWI selalu masuk m...</td>\n",
       "      <td>erfi_fatmawati</td>\n",
       "      <td>0</td>\n",
       "      <td>0</td>\n",
       "      <td>Purbalingga, Indonesia</td>\n",
       "    </tr>\n",
       "    <tr>\n",
       "      <th>2362</th>\n",
       "      <td>2022-10-14 07:51:40+00:00</td>\n",
       "      <td>1580828672130310144</td>\n",
       "      <td>Dukung pengalihan subsidi BBM, pengalihan subs...</td>\n",
       "      <td>PuspasariiDewi</td>\n",
       "      <td>0</td>\n",
       "      <td>0</td>\n",
       "      <td></td>\n",
       "    </tr>\n",
       "    <tr>\n",
       "      <th>1449</th>\n",
       "      <td>2022-10-14 10:12:33+00:00</td>\n",
       "      <td>1580864126620160000</td>\n",
       "      <td>@Wiznu_Prayoga kalok cm ngomong itu enak yakkk...</td>\n",
       "      <td>LekMarteg</td>\n",
       "      <td>0</td>\n",
       "      <td>0</td>\n",
       "      <td>Sukoharjo, Indonesia</td>\n",
       "    </tr>\n",
       "    <tr>\n",
       "      <th>2935</th>\n",
       "      <td>2022-10-14 07:08:44+00:00</td>\n",
       "      <td>1580817866601172994</td>\n",
       "      <td>Di indonesia BBM nya paling murah lo ges.\\n\\n#...</td>\n",
       "      <td>givqes</td>\n",
       "      <td>0</td>\n",
       "      <td>0</td>\n",
       "      <td>Medan Polonia, Indonesia</td>\n",
       "    </tr>\n",
       "  </tbody>\n",
       "</table>\n",
       "</div>"
      ],
      "text/plain": [
       "                      Datetime             Tweet Id  \\\n",
       "1363 2022-10-14 10:27:51+00:00  1580867979142909952   \n",
       "1639 2022-10-14 09:37:22+00:00  1580855273903689728   \n",
       "2362 2022-10-14 07:51:40+00:00  1580828672130310144   \n",
       "1449 2022-10-14 10:12:33+00:00  1580864126620160000   \n",
       "2935 2022-10-14 07:08:44+00:00  1580817866601172994   \n",
       "\n",
       "                                                  Tweet        Username  \\\n",
       "1363  Sudah jelas banget nih BPH Migas Tegaskan Kual...          ztstrw   \n",
       "1639  CARI BISNIS YG TEPAT,bisnis HWI selalu masuk m...  erfi_fatmawati   \n",
       "2362  Dukung pengalihan subsidi BBM, pengalihan subs...  PuspasariiDewi   \n",
       "1449  @Wiznu_Prayoga kalok cm ngomong itu enak yakkk...       LekMarteg   \n",
       "2935  Di indonesia BBM nya paling murah lo ges.\\n\\n#...          givqes   \n",
       "\n",
       "      Total Favorite  Total Retweet                    Lokasi  \n",
       "1363               0              0                            \n",
       "1639               0              0    Purbalingga, Indonesia  \n",
       "2362               0              0                            \n",
       "1449               0              0      Sukoharjo, Indonesia  \n",
       "2935               0              0  Medan Polonia, Indonesia  "
      ]
     },
     "execution_count": 6,
     "metadata": {},
     "output_type": "execute_result"
    }
   ],
   "source": [
    "TweetBBM.sample(n=5)"
   ]
  },
  {
   "cell_type": "markdown",
   "id": "3bd4c3a6",
   "metadata": {},
   "source": [
    "### Menyimpan Hasil Data Collecting\n",
    "Hasil Data Collecting disimpan dalam format CSV menggunakan fungsi `.to_csv`."
   ]
  },
  {
   "cell_type": "code",
   "execution_count": 7,
   "id": "a89a9613",
   "metadata": {},
   "outputs": [],
   "source": [
    "# Export Data Kumpulan Tweet Ke File CSV\n",
    "TweetBBM.to_csv('TweetBBM.csv', sep=',', index=False)"
   ]
  },
  {
   "cell_type": "markdown",
   "id": "1e472f8e",
   "metadata": {},
   "source": [
    "### Menghapus Kolom\n",
    "Menghapus kolom pada dataframe menggunakan fungsi `.drop`."
   ]
  },
  {
   "cell_type": "code",
   "execution_count": 8,
   "id": "c8b56bd2",
   "metadata": {},
   "outputs": [],
   "source": [
    "TweetBBM.drop(['Tweet Id', 'Total Favorite', 'Total Retweet', 'Username', 'Lokasi', 'Datetime'], axis=1, inplace=True)"
   ]
  },
  {
   "cell_type": "markdown",
   "id": "d353812f",
   "metadata": {},
   "source": [
    "\n",
    "## 2. Data Preprocessing\n",
    "\n",
    "Tahapan Data Preprocessing meliputi:\n",
    "\n",
    "- Normalization: Normalization digunakan untuk menyeragamkan term yang memiliki makna sama namun penulisanya berbeda, bisa diakibatkan kesalahan penulisan, penyingkatan kata, ataupun “bahasa gaul”.\n",
    "- Cleaning text dan lowercase: Membersihkan teks dari punctuation, URL, ekstra space, dan merubah huruf menjadi huruf kecil. Pada proses cleaning teks mengunakan modul `re`. Regular expression (regex) digunakan untuk menghapus karakter angka. \n",
    "- Tokenization: Memisahkan kalimat atau data menjadi potongan-potongan kata dengan kelas. Pada proses tokenize menggunakan fungsi `word_tokenize()` dari library `NLTK`.\n",
    "- Filtering (Stopword Removal): Menghapus kata yang tidak memiliki makna atau arti ketika berdiri sendiri. Pada proses membuang stopwords dari teks menggunakan fungsi `stopwords` dari library `NLTK`.\n",
    "- Stemming: Menghapus imbuhan pada tiap kata dan mengubah tiap kata menjadi kata dasar. Pada proses stemming bahasa indonesia dapat menggunakan library `Sastrawi`.\n",
    " "
   ]
  },
  {
   "cell_type": "code",
   "execution_count": 9,
   "id": "f5170d4f",
   "metadata": {},
   "outputs": [
    {
     "name": "stdout",
     "output_type": "stream",
     "text": [
      "Requirement already satisfied: Sastrawi in c:\\users\\asus\\anaconda3\\lib\\site-packages (1.0.1)\n"
     ]
    }
   ],
   "source": [
    "!pip install Sastrawi"
   ]
  },
  {
   "cell_type": "code",
   "execution_count": 10,
   "id": "55e4ffd5",
   "metadata": {},
   "outputs": [],
   "source": [
    "import re\n",
    "from nltk.tokenize import word_tokenize\n",
    "from nltk.corpus import stopwords\n",
    "from Sastrawi.Stemmer.StemmerFactory import StemmerFactory\n",
    "#from Sastrawi.StopWordRemover.StopWordRemoverFactory import StopWordRemoverFactory\n",
    "from wordcloud import WordCloud"
   ]
  },
  {
   "cell_type": "code",
   "execution_count": 11,
   "id": "183b179f",
   "metadata": {},
   "outputs": [],
   "source": [
    "df_Normalization = pd.read_csv('twitter_dict.csv')"
   ]
  },
  {
   "cell_type": "code",
   "execution_count": 12,
   "id": "b784c10c",
   "metadata": {},
   "outputs": [],
   "source": [
    "def Normalization(tweet):\n",
    "    tweet = tweet.lower()\n",
    "    res = ''\n",
    "    for item in tweet.split():\n",
    "        if item in df_Normalization.slang.values:\n",
    "            res += df_Normalization[df_Normalization['slang'] == item]['formal'].iloc[0]\n",
    "        else:\n",
    "            res += item\n",
    "        res += ' '\n",
    "    return res"
   ]
  },
  {
   "cell_type": "code",
   "execution_count": 13,
   "id": "97541044",
   "metadata": {},
   "outputs": [],
   "source": [
    "def emoji(tweet):\n",
    "    # Smile -- :), : ), :-), (:, ( :, (-:, :') , :O\n",
    "    tweet = re.sub(r'(:\\s?\\)|:-\\)|\\(\\s?:|\\(-:|:\\'\\)|:O)', ' positiveemoji ', tweet)\n",
    "    # Laugh -- :D, : D, :-D, xD, x-D, XD, X-D\n",
    "    tweet = re.sub(r'(:\\s?D|:-D|x-?D|X-?D)', ' positiveemoji ', tweet)\n",
    "    # Love -- <3, :*\n",
    "    tweet = re.sub(r'(<3|:\\*)', ' positiveemoji ', tweet)\n",
    "    # Wink -- ;-), ;), ;-D, ;D, (;,  (-; , @-)\n",
    "    tweet = re.sub(r'(;-?\\)|;-?D|\\(-?;|@-\\))', ' positiveemoji ', tweet)\n",
    "    # Sad -- :-(, : (, :(, ):, )-:, :-/ , :-|\n",
    "    tweet = re.sub(r'(:\\s?\\(|:-\\(|\\)\\s?:|\\)-:|:-/|:-\\|)', ' negetiveemoji ', tweet)\n",
    "    # Cry -- :,(, :'(, :\"(\n",
    "    tweet = re.sub(r'(:,\\(|:\\'\\(|:\"\\()', ' negetiveemoji ', tweet)\n",
    "    return tweet"
   ]
  },
  {
   "cell_type": "code",
   "execution_count": 14,
   "id": "f6021602",
   "metadata": {},
   "outputs": [],
   "source": [
    "def Cleaning(tweet):  \n",
    "    tweet = re.sub('@[^\\s]+', '', tweet)                              # Removes usernames\n",
    "    tweet = re.sub('((www\\.[^\\s]+)|(https?://[^\\s]+))', ' ', tweet)   # Remove URLs\n",
    "    tweet = re.sub(r\"\\d+\", \" \", str(tweet))                           # Removes all digits\n",
    "    tweet = re.sub('&quot;',\" \", tweet)                               # Remove (&quot;) \n",
    "    tweet = emoji(tweet)                                              # Replaces Emojis\n",
    "    tweet = re.sub(r\"\\b[a-zA-Z]\\b\", \"\", str(tweet))                   # Removes all single characters  \n",
    "    tweet = re.sub(r'(.)\\1+', r'\\1\\1', tweet)                         # Convert more than 2 letter repetitions to 2 letter\n",
    "    tweet = re.sub(r\"\\s+\", \" \", str(tweet))                           # Replaces double spaces with single space    \n",
    "    \n",
    "    tweet = re.sub(r'@[A-Za-z0-9]+', '', tweet)                       # remove mentions\n",
    "    tweet = re.sub(r'#[A-Za-z0-9]+', '', tweet)                       # remove hashtag\n",
    "    tweet = re.sub(r'RT[\\s]', '', tweet)                              # remove RT\n",
    "    tweet = re.sub(r\"http\\S+\", '', tweet)                             # remove link\n",
    "    tweet = re.sub(r'[0-9]+', '', tweet)                              # remove numbers\n",
    "\n",
    "    tweet = tweet.replace('\\n', ' ')                                  # replace new line into space\n",
    "    tweet = tweet.translate(str.maketrans('', '', string.punctuation)) # remove all punctuations\n",
    "    tweet = tweet.strip(' ')                                          # remove characters space from both left and right text\n",
    "    return tweet\n",
    "\n",
    "def tokenizingText(text): # Tokenizing or splitting a string, text into a list of tokens\n",
    "    text = word_tokenize(text) \n",
    "    return text\n",
    "\n",
    "def filteringText(text): # Remove stopwors in a text\n",
    "    listStopwords = set(stopwords.words('indonesian'))\n",
    "    filtered = []\n",
    "    for txt in text:\n",
    "        if txt not in listStopwords:\n",
    "            filtered.append(txt)\n",
    "    text = filtered \n",
    "    return text\n",
    "\n",
    "def stemmingText(text): # Reducing a word to its word stem that affixes to suffixes and prefixes or to the roots of words\n",
    "    factory = StemmerFactory()\n",
    "    stemmer = factory.create_stemmer()\n",
    "    text = [stemmer.stem(word) for word in text]\n",
    "    return text\n",
    "\n",
    "def toSentence(list_words): # Convert list of words into sentence\n",
    "    sentence = ' '.join(word for word in list_words)\n",
    "    return sentence"
   ]
  },
  {
   "cell_type": "code",
   "execution_count": 15,
   "id": "099f878b",
   "metadata": {},
   "outputs": [],
   "source": [
    "TweetBBM['Tweet_Processed'] = TweetBBM['Tweet'].apply(Normalization)\n",
    "TweetBBM['Tweet_Processed'] = TweetBBM['Tweet_Processed'].apply(Cleaning)\n",
    "\n",
    "TweetBBM['text_preprocessed'] = TweetBBM['Tweet_Processed'].apply(tokenizingText)\n",
    "TweetBBM['text_preprocessed'] = TweetBBM['text_preprocessed'].apply(filteringText)\n",
    "TweetBBM['text_preprocessed'] = TweetBBM['text_preprocessed'].apply(stemmingText)\n",
    "\n",
    "# drop duplicates/spams tweets\n",
    "TweetBBM.drop_duplicates(subset = 'Tweet_Processed', inplace = True)"
   ]
  },
  {
   "cell_type": "markdown",
   "id": "63d065c2",
   "metadata": {},
   "source": [
    "### Menampilkan hasil data prepocessing\n",
    "Fungsi `head()` digunakan untuk menampilkan data awal atau data teratas pada dataframe. "
   ]
  },
  {
   "cell_type": "code",
   "execution_count": 16,
   "id": "b0d5bae0",
   "metadata": {},
   "outputs": [
    {
     "data": {
      "text/html": [
       "<div>\n",
       "<style scoped>\n",
       "    .dataframe tbody tr th:only-of-type {\n",
       "        vertical-align: middle;\n",
       "    }\n",
       "\n",
       "    .dataframe tbody tr th {\n",
       "        vertical-align: top;\n",
       "    }\n",
       "\n",
       "    .dataframe thead th {\n",
       "        text-align: right;\n",
       "    }\n",
       "</style>\n",
       "<table border=\"1\" class=\"dataframe\">\n",
       "  <thead>\n",
       "    <tr style=\"text-align: right;\">\n",
       "      <th></th>\n",
       "      <th>Tweet</th>\n",
       "      <th>Tweet_Processed</th>\n",
       "      <th>text_preprocessed</th>\n",
       "    </tr>\n",
       "  </thead>\n",
       "  <tbody>\n",
       "    <tr>\n",
       "      <th>0</th>\n",
       "      <td>tp bernbohong urusan serius : 5.00 esemka sd i...</td>\n",
       "      <td>tapi bernbohong urusan serius   esemka sd inde...</td>\n",
       "      <td>[bernbohong, urus, serius, esemka, sd, inden, ...</td>\n",
       "    </tr>\n",
       "    <tr>\n",
       "      <th>1</th>\n",
       "      <td>Jual case iphone unik dan lucu. Chek fav untuk...</td>\n",
       "      <td>jual case iphone unik dan lucu chek favorit un...</td>\n",
       "      <td>[jual, case, iphone, unik, lucu, chek, favorit...</td>\n",
       "    </tr>\n",
       "    <tr>\n",
       "      <th>2</th>\n",
       "      <td>Harusnya PT Pertamiana dlm menyalurkan BBM Sub...</td>\n",
       "      <td>harusnya pt pertamiana dalam menyalurkan bbm s...</td>\n",
       "      <td>[pt, pertamiana, salur, bbm, subsidi, bikin, r...</td>\n",
       "    </tr>\n",
       "    <tr>\n",
       "      <th>3</th>\n",
       "      <td>Keberuntungan adalah pertemuan antara persiapa...</td>\n",
       "      <td>keberuntungan adalah pertemuan antara persiapa...</td>\n",
       "      <td>[untung, temu, siap, sempat, anthony, robbinso...</td>\n",
       "    </tr>\n",
       "    <tr>\n",
       "      <th>4</th>\n",
       "      <td>butuh testimoni?? dengan senang hati kami beri...</td>\n",
       "      <td>butuh testimoni dengan senang hati kami beri b...</td>\n",
       "      <td>[butuh, testimoni, senang, hati, bukti, via, bbm]</td>\n",
       "    </tr>\n",
       "    <tr>\n",
       "      <th>5</th>\n",
       "      <td>Konrad8899 Mau tampil keren dgn style anime ka...</td>\n",
       "      <td>konrad mau tampil keren dengan style anime kam...</td>\n",
       "      <td>[konrad, tampil, keren, style, anime, follow, ...</td>\n",
       "    </tr>\n",
       "    <tr>\n",
       "      <th>6</th>\n",
       "      <td>Kalopun leslar berdamai bagi aku harga BBM mas...</td>\n",
       "      <td>kalopun leslar berdamai bagi saya harga bbm ma...</td>\n",
       "      <td>[kalo, leslar, damai, harga, bbm, mahal, ngaru...</td>\n",
       "    </tr>\n",
       "    <tr>\n",
       "      <th>7</th>\n",
       "      <td>@igoen_anindya @Bangheri_ Kmrn2 lbh seru. Bawa...</td>\n",
       "      <td>kmrn lebih seru bawa mbl di kalan kecil di dep...</td>\n",
       "      <td>[kmrn, seru, bawa, mbl, kalan, motor, habis, b...</td>\n",
       "    </tr>\n",
       "    <tr>\n",
       "      <th>8</th>\n",
       "      <td>#DISCOUNT 35% |\\nRP. 245.000 --&amp;gt; RP. 159.25...</td>\n",
       "      <td>rp  gt rp   viera basic  wa  bbm</td>\n",
       "      <td>[rp, gt, rp, viera, basic, wa, bbm]</td>\n",
       "    </tr>\n",
       "    <tr>\n",
       "      <th>9</th>\n",
       "      <td>Ginseng kianpi pil efektip untuk menambah bera...</td>\n",
       "      <td>ginseng kianpi pil efektip untuk menambah bera...</td>\n",
       "      <td>[ginseng, kianpi, pil, efektip, tambah, berat,...</td>\n",
       "    </tr>\n",
       "  </tbody>\n",
       "</table>\n",
       "</div>"
      ],
      "text/plain": [
       "                                               Tweet  \\\n",
       "0  tp bernbohong urusan serius : 5.00 esemka sd i...   \n",
       "1  Jual case iphone unik dan lucu. Chek fav untuk...   \n",
       "2  Harusnya PT Pertamiana dlm menyalurkan BBM Sub...   \n",
       "3  Keberuntungan adalah pertemuan antara persiapa...   \n",
       "4  butuh testimoni?? dengan senang hati kami beri...   \n",
       "5  Konrad8899 Mau tampil keren dgn style anime ka...   \n",
       "6  Kalopun leslar berdamai bagi aku harga BBM mas...   \n",
       "7  @igoen_anindya @Bangheri_ Kmrn2 lbh seru. Bawa...   \n",
       "8  #DISCOUNT 35% |\\nRP. 245.000 --&gt; RP. 159.25...   \n",
       "9  Ginseng kianpi pil efektip untuk menambah bera...   \n",
       "\n",
       "                                     Tweet_Processed  \\\n",
       "0  tapi bernbohong urusan serius   esemka sd inde...   \n",
       "1  jual case iphone unik dan lucu chek favorit un...   \n",
       "2  harusnya pt pertamiana dalam menyalurkan bbm s...   \n",
       "3  keberuntungan adalah pertemuan antara persiapa...   \n",
       "4  butuh testimoni dengan senang hati kami beri b...   \n",
       "5  konrad mau tampil keren dengan style anime kam...   \n",
       "6  kalopun leslar berdamai bagi saya harga bbm ma...   \n",
       "7  kmrn lebih seru bawa mbl di kalan kecil di dep...   \n",
       "8                   rp  gt rp   viera basic  wa  bbm   \n",
       "9  ginseng kianpi pil efektip untuk menambah bera...   \n",
       "\n",
       "                                   text_preprocessed  \n",
       "0  [bernbohong, urus, serius, esemka, sd, inden, ...  \n",
       "1  [jual, case, iphone, unik, lucu, chek, favorit...  \n",
       "2  [pt, pertamiana, salur, bbm, subsidi, bikin, r...  \n",
       "3  [untung, temu, siap, sempat, anthony, robbinso...  \n",
       "4  [butuh, testimoni, senang, hati, bukti, via, bbm]  \n",
       "5  [konrad, tampil, keren, style, anime, follow, ...  \n",
       "6  [kalo, leslar, damai, harga, bbm, mahal, ngaru...  \n",
       "7  [kmrn, seru, bawa, mbl, kalan, motor, habis, b...  \n",
       "8                [rp, gt, rp, viera, basic, wa, bbm]  \n",
       "9  [ginseng, kianpi, pil, efektip, tambah, berat,...  "
      ]
     },
     "execution_count": 16,
     "metadata": {},
     "output_type": "execute_result"
    }
   ],
   "source": [
    "TweetBBM.head(10)"
   ]
  },
  {
   "cell_type": "markdown",
   "id": "de931324",
   "metadata": {},
   "source": [
    "### Frequency Distributions\n",
    "Untuk mengetahui berapa kali setiap kata muncul dalam teks tertentu menggunakan fungsi `FreqDist` dari library `NLTK`."
   ]
  },
  {
   "cell_type": "code",
   "execution_count": 17,
   "id": "8e71f0ec",
   "metadata": {},
   "outputs": [],
   "source": [
    "from nltk.probability import FreqDist"
   ]
  },
  {
   "cell_type": "code",
   "execution_count": 18,
   "id": "27e532d6",
   "metadata": {},
   "outputs": [
    {
     "data": {
      "text/plain": [
       "4578"
      ]
     },
     "execution_count": 18,
     "metadata": {},
     "output_type": "execute_result"
    }
   ],
   "source": [
    "all_words = [word for item in list(TweetBBM['text_preprocessed']) for word in item]\n",
    "\n",
    "#distribusi frekuensi dari kata-kata\n",
    "fdist = FreqDist(all_words)\n",
    "\n",
    "#banyaknya kata unik\n",
    "len(fdist)"
   ]
  },
  {
   "cell_type": "code",
   "execution_count": 19,
   "id": "0d3e05d5",
   "metadata": {},
   "outputs": [],
   "source": [
    "#mengubah distribusi frekuensi ke dalam dataframe\n",
    "fdist = pd.DataFrame.from_dict(fdist, orient='index').reset_index()\n",
    "fdist.columns = ['word', 'freq']\n",
    "fdist = fdist.sort_values('freq', ascending=False)"
   ]
  },
  {
   "cell_type": "code",
   "execution_count": 20,
   "id": "2586ba24",
   "metadata": {},
   "outputs": [],
   "source": [
    "#membuang kata dengan <= 1 karakter\n",
    "fdist = fdist[fdist.apply(lambda r: len(r['word']) > 1, axis=1)]\n",
    "\n",
    "#membuang angka\n",
    "fdist = fdist[fdist.apply(lambda r: r['word'].isdigit() == False, axis=1)]\n",
    "\n",
    "#memilih kata yang muncul >= 10 kali dan <= 2000 kali\n",
    "fdist = fdist[(fdist.freq >= 10) & (fdist.freq <= 2000)]"
   ]
  },
  {
   "cell_type": "code",
   "execution_count": 21,
   "id": "8fd2c9bc",
   "metadata": {},
   "outputs": [
    {
     "data": {
      "text/html": [
       "<div>\n",
       "<style scoped>\n",
       "    .dataframe tbody tr th:only-of-type {\n",
       "        vertical-align: middle;\n",
       "    }\n",
       "\n",
       "    .dataframe tbody tr th {\n",
       "        vertical-align: top;\n",
       "    }\n",
       "\n",
       "    .dataframe thead th {\n",
       "        text-align: right;\n",
       "    }\n",
       "</style>\n",
       "<table border=\"1\" class=\"dataframe\">\n",
       "  <thead>\n",
       "    <tr style=\"text-align: right;\">\n",
       "      <th></th>\n",
       "      <th>word</th>\n",
       "      <th>freq</th>\n",
       "    </tr>\n",
       "  </thead>\n",
       "  <tbody>\n",
       "    <tr>\n",
       "      <th>118</th>\n",
       "      <td>blt</td>\n",
       "      <td>666</td>\n",
       "    </tr>\n",
       "    <tr>\n",
       "      <th>67</th>\n",
       "      <td>harga</td>\n",
       "      <td>545</td>\n",
       "    </tr>\n",
       "    <tr>\n",
       "      <th>763</th>\n",
       "      <td>masyarakat</td>\n",
       "      <td>437</td>\n",
       "    </tr>\n",
       "    <tr>\n",
       "      <th>23</th>\n",
       "      <td>subsidi</td>\n",
       "      <td>400</td>\n",
       "    </tr>\n",
       "    <tr>\n",
       "      <th>491</th>\n",
       "      <td>sesuai</td>\n",
       "      <td>347</td>\n",
       "    </tr>\n",
       "    <tr>\n",
       "      <th>483</th>\n",
       "      <td>perintah</td>\n",
       "      <td>251</td>\n",
       "    </tr>\n",
       "    <tr>\n",
       "      <th>503</th>\n",
       "      <td>dukung</td>\n",
       "      <td>236</td>\n",
       "    </tr>\n",
       "    <tr>\n",
       "      <th>22</th>\n",
       "      <td>salur</td>\n",
       "      <td>208</td>\n",
       "    </tr>\n",
       "    <tr>\n",
       "      <th>124</th>\n",
       "      <td>bantu</td>\n",
       "      <td>206</td>\n",
       "    </tr>\n",
       "    <tr>\n",
       "      <th>585</th>\n",
       "      <td>barat</td>\n",
       "      <td>190</td>\n",
       "    </tr>\n",
       "  </tbody>\n",
       "</table>\n",
       "</div>"
      ],
      "text/plain": [
       "           word  freq\n",
       "118         blt   666\n",
       "67        harga   545\n",
       "763  masyarakat   437\n",
       "23      subsidi   400\n",
       "491      sesuai   347\n",
       "483    perintah   251\n",
       "503      dukung   236\n",
       "22        salur   208\n",
       "124       bantu   206\n",
       "585       barat   190"
      ]
     },
     "execution_count": 21,
     "metadata": {},
     "output_type": "execute_result"
    }
   ],
   "source": [
    "fdist.head(10)"
   ]
  },
  {
   "cell_type": "code",
   "execution_count": 22,
   "id": "48ed7118",
   "metadata": {},
   "outputs": [],
   "source": [
    "# Export Data Kumpulan Tweet Ke File CSV\n",
    "fdist.to_csv('fdist_TweetBBM.csv', sep=',', index=True)"
   ]
  },
  {
   "cell_type": "code",
   "execution_count": 23,
   "id": "b2da82ae",
   "metadata": {},
   "outputs": [
    {
     "data": {
      "text/html": [
       "<div>\n",
       "<style scoped>\n",
       "    .dataframe tbody tr th:only-of-type {\n",
       "        vertical-align: middle;\n",
       "    }\n",
       "\n",
       "    .dataframe tbody tr th {\n",
       "        vertical-align: top;\n",
       "    }\n",
       "\n",
       "    .dataframe thead th {\n",
       "        text-align: right;\n",
       "    }\n",
       "</style>\n",
       "<table border=\"1\" class=\"dataframe\">\n",
       "  <thead>\n",
       "    <tr style=\"text-align: right;\">\n",
       "      <th></th>\n",
       "      <th>word</th>\n",
       "      <th>freq</th>\n",
       "    </tr>\n",
       "  </thead>\n",
       "  <tbody>\n",
       "    <tr>\n",
       "      <th>0</th>\n",
       "      <td>blt</td>\n",
       "      <td>666</td>\n",
       "    </tr>\n",
       "    <tr>\n",
       "      <th>1</th>\n",
       "      <td>harga</td>\n",
       "      <td>545</td>\n",
       "    </tr>\n",
       "    <tr>\n",
       "      <th>2</th>\n",
       "      <td>masyarakat</td>\n",
       "      <td>437</td>\n",
       "    </tr>\n",
       "    <tr>\n",
       "      <th>3</th>\n",
       "      <td>subsidi</td>\n",
       "      <td>400</td>\n",
       "    </tr>\n",
       "    <tr>\n",
       "      <th>4</th>\n",
       "      <td>sesuai</td>\n",
       "      <td>347</td>\n",
       "    </tr>\n",
       "    <tr>\n",
       "      <th>5</th>\n",
       "      <td>perintah</td>\n",
       "      <td>251</td>\n",
       "    </tr>\n",
       "    <tr>\n",
       "      <th>6</th>\n",
       "      <td>dukung</td>\n",
       "      <td>236</td>\n",
       "    </tr>\n",
       "    <tr>\n",
       "      <th>7</th>\n",
       "      <td>salur</td>\n",
       "      <td>208</td>\n",
       "    </tr>\n",
       "    <tr>\n",
       "      <th>8</th>\n",
       "      <td>bantu</td>\n",
       "      <td>206</td>\n",
       "    </tr>\n",
       "    <tr>\n",
       "      <th>9</th>\n",
       "      <td>barat</td>\n",
       "      <td>190</td>\n",
       "    </tr>\n",
       "  </tbody>\n",
       "</table>\n",
       "</div>"
      ],
      "text/plain": [
       "         word  freq\n",
       "0         blt   666\n",
       "1       harga   545\n",
       "2  masyarakat   437\n",
       "3     subsidi   400\n",
       "4      sesuai   347\n",
       "5    perintah   251\n",
       "6      dukung   236\n",
       "7       salur   208\n",
       "8       bantu   206\n",
       "9       barat   190"
      ]
     },
     "execution_count": 23,
     "metadata": {},
     "output_type": "execute_result"
    }
   ],
   "source": [
    "fdist1 = pd.read_csv('fdist_TweetBBM.csv').iloc[:,1:]\n",
    "fdist1.head(10)"
   ]
  },
  {
   "cell_type": "markdown",
   "id": "31261fe8",
   "metadata": {},
   "source": [
    "### Word Cloud\n",
    "Word Cloud adalah teknik visualisasi data yang digunakan untuk merepresentasikan data teks di mana ukuran setiap kata menunjukkan frekuensi."
   ]
  },
  {
   "cell_type": "code",
   "execution_count": 24,
   "id": "464ca46d",
   "metadata": {},
   "outputs": [
    {
     "name": "stdout",
     "output_type": "stream",
     "text": [
      "Requirement already satisfied: wordcloud in c:\\users\\asus\\anaconda3\\lib\\site-packages (1.8.2.2)\n",
      "Requirement already satisfied: numpy>=1.6.1 in c:\\users\\asus\\anaconda3\\lib\\site-packages (from wordcloud) (1.21.5)\n",
      "Requirement already satisfied: matplotlib in c:\\users\\asus\\anaconda3\\lib\\site-packages (from wordcloud) (3.5.1)\n",
      "Requirement already satisfied: pillow in c:\\users\\asus\\anaconda3\\lib\\site-packages (from wordcloud) (9.0.1)\n",
      "Requirement already satisfied: fonttools>=4.22.0 in c:\\users\\asus\\anaconda3\\lib\\site-packages (from matplotlib->wordcloud) (4.25.0)\n",
      "Requirement already satisfied: packaging>=20.0 in c:\\users\\asus\\anaconda3\\lib\\site-packages (from matplotlib->wordcloud) (21.3)\n",
      "Requirement already satisfied: python-dateutil>=2.7 in c:\\users\\asus\\anaconda3\\lib\\site-packages (from matplotlib->wordcloud) (2.8.2)\n",
      "Requirement already satisfied: pyparsing>=2.2.1 in c:\\users\\asus\\anaconda3\\lib\\site-packages (from matplotlib->wordcloud) (3.0.4)\n",
      "Requirement already satisfied: kiwisolver>=1.0.1 in c:\\users\\asus\\anaconda3\\lib\\site-packages (from matplotlib->wordcloud) (1.3.2)\n",
      "Requirement already satisfied: cycler>=0.10 in c:\\users\\asus\\anaconda3\\lib\\site-packages (from matplotlib->wordcloud) (0.11.0)\n",
      "Requirement already satisfied: six>=1.5 in c:\\users\\asus\\anaconda3\\lib\\site-packages (from python-dateutil>=2.7->matplotlib->wordcloud) (1.16.0)\n",
      "Requirement already satisfied: stylecloud in c:\\users\\asus\\anaconda3\\lib\\site-packages (0.5.2)\n",
      "Requirement already satisfied: wordcloud in c:\\users\\asus\\anaconda3\\lib\\site-packages (from stylecloud) (1.8.2.2)\n",
      "Requirement already satisfied: palettable in c:\\users\\asus\\anaconda3\\lib\\site-packages (from stylecloud) (3.3.0)\n",
      "Requirement already satisfied: icon-font-to-png in c:\\users\\asus\\anaconda3\\lib\\site-packages (from stylecloud) (0.4.1)\n",
      "Requirement already satisfied: matplotlib in c:\\users\\asus\\anaconda3\\lib\\site-packages (from stylecloud) (3.5.1)\n",
      "Requirement already satisfied: fire in c:\\users\\asus\\anaconda3\\lib\\site-packages (from stylecloud) (0.4.0)\n",
      "Requirement already satisfied: six in c:\\users\\asus\\anaconda3\\lib\\site-packages (from fire->stylecloud) (1.16.0)\n",
      "Requirement already satisfied: termcolor in c:\\users\\asus\\anaconda3\\lib\\site-packages (from fire->stylecloud) (2.0.1)\n",
      "Requirement already satisfied: requests>=2.12.5 in c:\\users\\asus\\anaconda3\\lib\\site-packages (from icon-font-to-png->stylecloud) (2.27.1)\n",
      "Requirement already satisfied: tinycss>=0.4 in c:\\users\\asus\\anaconda3\\lib\\site-packages (from icon-font-to-png->stylecloud) (0.4)\n",
      "Requirement already satisfied: Pillow>=4.0.0 in c:\\users\\asus\\anaconda3\\lib\\site-packages (from icon-font-to-png->stylecloud) (9.0.1)\n",
      "Requirement already satisfied: idna<4,>=2.5 in c:\\users\\asus\\anaconda3\\lib\\site-packages (from requests>=2.12.5->icon-font-to-png->stylecloud) (2.10)\n",
      "Requirement already satisfied: urllib3<1.27,>=1.21.1 in c:\\users\\asus\\anaconda3\\lib\\site-packages (from requests>=2.12.5->icon-font-to-png->stylecloud) (1.26.9)\n",
      "Requirement already satisfied: charset-normalizer~=2.0.0 in c:\\users\\asus\\anaconda3\\lib\\site-packages (from requests>=2.12.5->icon-font-to-png->stylecloud) (2.0.4)\n",
      "Requirement already satisfied: certifi>=2017.4.17 in c:\\users\\asus\\anaconda3\\lib\\site-packages (from requests>=2.12.5->icon-font-to-png->stylecloud) (2021.10.8)\n",
      "Requirement already satisfied: numpy>=1.17 in c:\\users\\asus\\anaconda3\\lib\\site-packages (from matplotlib->stylecloud) (1.21.5)\n",
      "Requirement already satisfied: kiwisolver>=1.0.1 in c:\\users\\asus\\anaconda3\\lib\\site-packages (from matplotlib->stylecloud) (1.3.2)\n",
      "Requirement already satisfied: python-dateutil>=2.7 in c:\\users\\asus\\anaconda3\\lib\\site-packages (from matplotlib->stylecloud) (2.8.2)\n",
      "Requirement already satisfied: pyparsing>=2.2.1 in c:\\users\\asus\\anaconda3\\lib\\site-packages (from matplotlib->stylecloud) (3.0.4)\n",
      "Requirement already satisfied: cycler>=0.10 in c:\\users\\asus\\anaconda3\\lib\\site-packages (from matplotlib->stylecloud) (0.11.0)\n",
      "Requirement already satisfied: packaging>=20.0 in c:\\users\\asus\\anaconda3\\lib\\site-packages (from matplotlib->stylecloud) (21.3)\n",
      "Requirement already satisfied: fonttools>=4.22.0 in c:\\users\\asus\\anaconda3\\lib\\site-packages (from matplotlib->stylecloud) (4.25.0)\n"
     ]
    }
   ],
   "source": [
    "!pip install wordcloud\n",
    "!pip install stylecloud"
   ]
  },
  {
   "cell_type": "code",
   "execution_count": 28,
   "id": "f45d24da",
   "metadata": {},
   "outputs": [],
   "source": [
    "import matplotlib.pyplot as plt\n",
    "from wordcloud import WordCloud\n",
    "from PIL import Image"
   ]
  },
  {
   "cell_type": "code",
   "execution_count": 29,
   "id": "b1931ba5",
   "metadata": {},
   "outputs": [
    {
     "data": {
      "image/png": "[encoded data removed]",
      "text/plain": [
       "<Figure size 1080x864 with 1 Axes>"
      ]
     },
     "metadata": {
      "needs_background": "light"
     },
     "output_type": "display_data"
    }
   ],
   "source": [
    "mask = np.array(Image.open('bulb.jpg'))\n",
    "wordcloud = WordCloud(width = 3000, height = 2000, random_state=1,\n",
    "                      background_color='black', colormap='gist_rainbow_r', \n",
    "                      collocations=False, mask=mask).generate(' '.join(fdist1['word']))\n",
    "plt.figure(figsize=(15, 12))\n",
    "plt.imshow(wordcloud) \n",
    "plt.axis(\"off\");\n",
    "plt.savefig('cloud_design.jpg', format=None) #saves word cloud as image"
   ]
  },
  {
   "cell_type": "markdown",
   "id": "9f9d9069",
   "metadata": {},
   "source": [
    "#### Determine sentiment polarity of tweets using indonesia sentiment lexicon (source : https://github.com/fajri91/InSet)"
   ]
  },
  {
   "cell_type": "code",
   "execution_count": 30,
   "id": "b8aff655",
   "metadata": {},
   "outputs": [],
   "source": [
    "# Loads lexicon positive and negative data\n",
    "lexicon_positive = dict()\n",
    "import csv\n",
    "with open('lexicon_positive.csv', 'r') as csvfile:\n",
    "    reader = csv.reader(csvfile, delimiter=',')\n",
    "    for row in reader:\n",
    "        lexicon_positive[row[0]] = int(row[1])\n",
    "\n",
    "lexicon_negative = dict()\n",
    "import csv\n",
    "with open('lexicon_negative.csv', 'r') as csvfile:\n",
    "    reader = csv.reader(csvfile, delimiter=',')\n",
    "    for row in reader:\n",
    "        lexicon_negative[row[0]] = int(row[1])\n",
    "        \n",
    "# Function to determine sentiment polarity of tweets        \n",
    "def sentiment_analysis_lexicon_indonesia(text):\n",
    "    #for word in text:\n",
    "    score = 0\n",
    "    for word in text:\n",
    "        if (word in lexicon_positive):\n",
    "            score = score + lexicon_positive[word]\n",
    "    for word in text:\n",
    "        if (word in lexicon_negative):\n",
    "            score = score + lexicon_negative[word]\n",
    "    polarity=''\n",
    "    if (score > 0):\n",
    "        polarity = 'positive'\n",
    "    elif (score < 0):\n",
    "        polarity = 'negative'\n",
    "    else:\n",
    "        polarity = 'neutral'\n",
    "    return score, polarity"
   ]
  },
  {
   "cell_type": "code",
   "execution_count": 31,
   "id": "d9d20d00",
   "metadata": {},
   "outputs": [
    {
     "name": "stdout",
     "output_type": "stream",
     "text": [
      "positive    1263\n",
      "negative     839\n",
      "neutral      340\n",
      "Name: polarity, dtype: int64\n"
     ]
    }
   ],
   "source": [
    "#Results from determine sentiment polarity of tweets\n",
    "\n",
    "results = TweetBBM['text_preprocessed'].apply(sentiment_analysis_lexicon_indonesia)\n",
    "results = list(zip(*results))\n",
    "TweetBBM['polarity_score'] = results[0]\n",
    "TweetBBM['polarity'] = results[1]\n",
    "print(TweetBBM['polarity'].value_counts())"
   ]
  },
  {
   "cell_type": "code",
   "execution_count": 32,
   "id": "72e069e1",
   "metadata": {},
   "outputs": [
    {
     "data": {
      "image/png": "[encoded data removed]",
      "text/plain": [
       "<Figure size 576x576 with 1 Axes>"
      ]
     },
     "metadata": {},
     "output_type": "display_data"
    }
   ],
   "source": [
    "# Plotting Pie\n",
    "def pct_pie(pct, allvals):\n",
    "    absolute = int(pct / 100.0 * np.sum(allvals))\n",
    "    return \"{:.1f}%\\n{:d}\".format(pct, absolute)\n",
    "\n",
    "\n",
    "sentimen = TweetBBM[\"text_preprocessed\"].groupby(TweetBBM[\"polarity\"]).count().values\n",
    "\n",
    "plt.figure(figsize=(8, 8))\n",
    "plt.pie(\n",
    "    sentimen,\n",
    "    explode=(0, 0, 0.1),\n",
    "    labels=[\"Negatif\", \"Netral\", \"Positif\"],\n",
    "    shadow=True,\n",
    "    autopct=lambda pct: pct_pie(pct, sentimen),\n",
    "    startangle=90,\n",
    ")\n",
    "plt.title(\"Perbandingan Sentiment\", fontsize=18)\n",
    "plt.axis(\"equal\")\n",
    "plt.legend(fontsize=11)\n",
    "plt.show()"
   ]
  },
  {
   "cell_type": "code",
   "execution_count": 33,
   "id": "8c0ee58b",
   "metadata": {},
   "outputs": [
    {
     "data": {
      "text/html": [
       "<div>\n",
       "<style scoped>\n",
       "    .dataframe tbody tr th:only-of-type {\n",
       "        vertical-align: middle;\n",
       "    }\n",
       "\n",
       "    .dataframe tbody tr th {\n",
       "        vertical-align: top;\n",
       "    }\n",
       "\n",
       "    .dataframe thead th {\n",
       "        text-align: right;\n",
       "    }\n",
       "</style>\n",
       "<table border=\"1\" class=\"dataframe\">\n",
       "  <thead>\n",
       "    <tr style=\"text-align: right;\">\n",
       "      <th></th>\n",
       "      <th>Tweet</th>\n",
       "      <th>Tweet_Processed</th>\n",
       "      <th>text_preprocessed</th>\n",
       "      <th>polarity_score</th>\n",
       "      <th>polarity</th>\n",
       "    </tr>\n",
       "  </thead>\n",
       "  <tbody>\n",
       "    <tr>\n",
       "      <th>0</th>\n",
       "      <td>tp bernbohong urusan serius : 5.00 esemka sd i...</td>\n",
       "      <td>tapi bernbohong urusan serius   esemka sd inde...</td>\n",
       "      <td>[bernbohong, urus, serius, esemka, sd, inden, ...</td>\n",
       "      <td>-4</td>\n",
       "      <td>negative</td>\n",
       "    </tr>\n",
       "    <tr>\n",
       "      <th>1</th>\n",
       "      <td>Jual case iphone unik dan lucu. Chek fav untuk...</td>\n",
       "      <td>jual case iphone unik dan lucu chek favorit un...</td>\n",
       "      <td>[jual, case, iphone, unik, lucu, chek, favorit...</td>\n",
       "      <td>1</td>\n",
       "      <td>positive</td>\n",
       "    </tr>\n",
       "    <tr>\n",
       "      <th>2</th>\n",
       "      <td>Harusnya PT Pertamiana dlm menyalurkan BBM Sub...</td>\n",
       "      <td>harusnya pt pertamiana dalam menyalurkan bbm s...</td>\n",
       "      <td>[pt, pertamiana, salur, bbm, subsidi, bikin, r...</td>\n",
       "      <td>-3</td>\n",
       "      <td>negative</td>\n",
       "    </tr>\n",
       "    <tr>\n",
       "      <th>3</th>\n",
       "      <td>Keberuntungan adalah pertemuan antara persiapa...</td>\n",
       "      <td>keberuntungan adalah pertemuan antara persiapa...</td>\n",
       "      <td>[untung, temu, siap, sempat, anthony, robbinso...</td>\n",
       "      <td>5</td>\n",
       "      <td>positive</td>\n",
       "    </tr>\n",
       "    <tr>\n",
       "      <th>4</th>\n",
       "      <td>butuh testimoni?? dengan senang hati kami beri...</td>\n",
       "      <td>butuh testimoni dengan senang hati kami beri b...</td>\n",
       "      <td>[butuh, testimoni, senang, hati, bukti, via, bbm]</td>\n",
       "      <td>-4</td>\n",
       "      <td>negative</td>\n",
       "    </tr>\n",
       "    <tr>\n",
       "      <th>5</th>\n",
       "      <td>Konrad8899 Mau tampil keren dgn style anime ka...</td>\n",
       "      <td>konrad mau tampil keren dengan style anime kam...</td>\n",
       "      <td>[konrad, tampil, keren, style, anime, follow, ...</td>\n",
       "      <td>-2</td>\n",
       "      <td>negative</td>\n",
       "    </tr>\n",
       "    <tr>\n",
       "      <th>6</th>\n",
       "      <td>Kalopun leslar berdamai bagi aku harga BBM mas...</td>\n",
       "      <td>kalopun leslar berdamai bagi saya harga bbm ma...</td>\n",
       "      <td>[kalo, leslar, damai, harga, bbm, mahal, ngaru...</td>\n",
       "      <td>4</td>\n",
       "      <td>positive</td>\n",
       "    </tr>\n",
       "    <tr>\n",
       "      <th>7</th>\n",
       "      <td>@igoen_anindya @Bangheri_ Kmrn2 lbh seru. Bawa...</td>\n",
       "      <td>kmrn lebih seru bawa mbl di kalan kecil di dep...</td>\n",
       "      <td>[kmrn, seru, bawa, mbl, kalan, motor, habis, b...</td>\n",
       "      <td>-12</td>\n",
       "      <td>negative</td>\n",
       "    </tr>\n",
       "    <tr>\n",
       "      <th>8</th>\n",
       "      <td>#DISCOUNT 35% |\\nRP. 245.000 --&amp;gt; RP. 159.25...</td>\n",
       "      <td>rp  gt rp   viera basic  wa  bbm</td>\n",
       "      <td>[rp, gt, rp, viera, basic, wa, bbm]</td>\n",
       "      <td>0</td>\n",
       "      <td>neutral</td>\n",
       "    </tr>\n",
       "    <tr>\n",
       "      <th>9</th>\n",
       "      <td>Ginseng kianpi pil efektip untuk menambah bera...</td>\n",
       "      <td>ginseng kianpi pil efektip untuk menambah bera...</td>\n",
       "      <td>[ginseng, kianpi, pil, efektip, tambah, berat,...</td>\n",
       "      <td>0</td>\n",
       "      <td>neutral</td>\n",
       "    </tr>\n",
       "  </tbody>\n",
       "</table>\n",
       "</div>"
      ],
      "text/plain": [
       "                                               Tweet  \\\n",
       "0  tp bernbohong urusan serius : 5.00 esemka sd i...   \n",
       "1  Jual case iphone unik dan lucu. Chek fav untuk...   \n",
       "2  Harusnya PT Pertamiana dlm menyalurkan BBM Sub...   \n",
       "3  Keberuntungan adalah pertemuan antara persiapa...   \n",
       "4  butuh testimoni?? dengan senang hati kami beri...   \n",
       "5  Konrad8899 Mau tampil keren dgn style anime ka...   \n",
       "6  Kalopun leslar berdamai bagi aku harga BBM mas...   \n",
       "7  @igoen_anindya @Bangheri_ Kmrn2 lbh seru. Bawa...   \n",
       "8  #DISCOUNT 35% |\\nRP. 245.000 --&gt; RP. 159.25...   \n",
       "9  Ginseng kianpi pil efektip untuk menambah bera...   \n",
       "\n",
       "                                     Tweet_Processed  \\\n",
       "0  tapi bernbohong urusan serius   esemka sd inde...   \n",
       "1  jual case iphone unik dan lucu chek favorit un...   \n",
       "2  harusnya pt pertamiana dalam menyalurkan bbm s...   \n",
       "3  keberuntungan adalah pertemuan antara persiapa...   \n",
       "4  butuh testimoni dengan senang hati kami beri b...   \n",
       "5  konrad mau tampil keren dengan style anime kam...   \n",
       "6  kalopun leslar berdamai bagi saya harga bbm ma...   \n",
       "7  kmrn lebih seru bawa mbl di kalan kecil di dep...   \n",
       "8                   rp  gt rp   viera basic  wa  bbm   \n",
       "9  ginseng kianpi pil efektip untuk menambah bera...   \n",
       "\n",
       "                                   text_preprocessed  polarity_score  polarity  \n",
       "0  [bernbohong, urus, serius, esemka, sd, inden, ...              -4  negative  \n",
       "1  [jual, case, iphone, unik, lucu, chek, favorit...               1  positive  \n",
       "2  [pt, pertamiana, salur, bbm, subsidi, bikin, r...              -3  negative  \n",
       "3  [untung, temu, siap, sempat, anthony, robbinso...               5  positive  \n",
       "4  [butuh, testimoni, senang, hati, bukti, via, bbm]              -4  negative  \n",
       "5  [konrad, tampil, keren, style, anime, follow, ...              -2  negative  \n",
       "6  [kalo, leslar, damai, harga, bbm, mahal, ngaru...               4  positive  \n",
       "7  [kmrn, seru, bawa, mbl, kalan, motor, habis, b...             -12  negative  \n",
       "8                [rp, gt, rp, viera, basic, wa, bbm]               0   neutral  \n",
       "9  [ginseng, kianpi, pil, efektip, tambah, berat,...               0   neutral  "
      ]
     },
     "execution_count": 33,
     "metadata": {},
     "output_type": "execute_result"
    }
   ],
   "source": [
    "TweetBBM.head(10)"
   ]
  },
  {
   "cell_type": "code",
   "execution_count": 38,
   "id": "6fbad713",
   "metadata": {},
   "outputs": [],
   "source": [
    "# Export Data Kumpulan Tweet Ke File CSV\n",
    "TweetBBM.to_csv('DP_TweetSubsidiBBM.csv', sep=',', index=False)"
   ]
  },
  {
   "cell_type": "code",
   "execution_count": 39,
   "id": "dbb7f7f1",
   "metadata": {},
   "outputs": [],
   "source": [
    "data = pd.read_csv('DP_TweetSubsidiBBM.csv')"
   ]
  },
  {
   "cell_type": "code",
   "execution_count": 36,
   "id": "ef0c47af",
   "metadata": {},
   "outputs": [],
   "source": [
    "from textblob import TextBlob\n",
    "from vaderSentiment.vaderSentiment import SentimentIntensityAnalyzer\n",
    "import flair\n",
    "from sklearn.metrics import classification_report, roc_auc_score"
   ]
  },
  {
   "cell_type": "code",
   "execution_count": 40,
   "id": "b8fb74f6",
   "metadata": {},
   "outputs": [],
   "source": [
    "data['textblob_polarity'] = data['text_preprocessed'].apply(lambda x: TextBlob(x).sentiment.polarity)\n",
    "data['textblob_sentiment'] = data['textblob_polarity'].apply(lambda x: \"positive\" if x > 0.05 else \"negative\" if x < 0.05 else \"neutral\")"
   ]
  },
  {
   "cell_type": "code",
   "execution_count": 42,
   "id": "2f281cbb",
   "metadata": {},
   "outputs": [],
   "source": [
    "analyzer = SentimentIntensityAnalyzer()\n",
    "data['vader_polarity'] = data['text_preprocessed'].apply(lambda x: analyzer.polarity_scores(x)['compound'])\n",
    "data['vader_sentiment'] = data['vader_polarity'].apply(lambda x: \"positive\" if x > 0.05 else \"negative\" if x < 0.05 else \"neutral\")"
   ]
  },
  {
   "cell_type": "code",
   "execution_count": 43,
   "id": "1ba3084c",
   "metadata": {},
   "outputs": [
    {
     "data": {
      "text/html": [
       "<div>\n",
       "<style scoped>\n",
       "    .dataframe tbody tr th:only-of-type {\n",
       "        vertical-align: middle;\n",
       "    }\n",
       "\n",
       "    .dataframe tbody tr th {\n",
       "        vertical-align: top;\n",
       "    }\n",
       "\n",
       "    .dataframe thead th {\n",
       "        text-align: right;\n",
       "    }\n",
       "</style>\n",
       "<table border=\"1\" class=\"dataframe\">\n",
       "  <thead>\n",
       "    <tr style=\"text-align: right;\">\n",
       "      <th></th>\n",
       "      <th>polarity</th>\n",
       "      <th>textblob_sentiment</th>\n",
       "      <th>vader_sentiment</th>\n",
       "    </tr>\n",
       "  </thead>\n",
       "  <tbody>\n",
       "    <tr>\n",
       "      <th>0</th>\n",
       "      <td>negative</td>\n",
       "      <td>negative</td>\n",
       "      <td>negative</td>\n",
       "    </tr>\n",
       "    <tr>\n",
       "      <th>1</th>\n",
       "      <td>positive</td>\n",
       "      <td>negative</td>\n",
       "      <td>negative</td>\n",
       "    </tr>\n",
       "    <tr>\n",
       "      <th>2</th>\n",
       "      <td>negative</td>\n",
       "      <td>negative</td>\n",
       "      <td>negative</td>\n",
       "    </tr>\n",
       "    <tr>\n",
       "      <th>3</th>\n",
       "      <td>positive</td>\n",
       "      <td>negative</td>\n",
       "      <td>negative</td>\n",
       "    </tr>\n",
       "    <tr>\n",
       "      <th>4</th>\n",
       "      <td>negative</td>\n",
       "      <td>negative</td>\n",
       "      <td>negative</td>\n",
       "    </tr>\n",
       "    <tr>\n",
       "      <th>...</th>\n",
       "      <td>...</td>\n",
       "      <td>...</td>\n",
       "      <td>...</td>\n",
       "    </tr>\n",
       "    <tr>\n",
       "      <th>2437</th>\n",
       "      <td>positive</td>\n",
       "      <td>negative</td>\n",
       "      <td>negative</td>\n",
       "    </tr>\n",
       "    <tr>\n",
       "      <th>2438</th>\n",
       "      <td>positive</td>\n",
       "      <td>negative</td>\n",
       "      <td>negative</td>\n",
       "    </tr>\n",
       "    <tr>\n",
       "      <th>2439</th>\n",
       "      <td>positive</td>\n",
       "      <td>negative</td>\n",
       "      <td>negative</td>\n",
       "    </tr>\n",
       "    <tr>\n",
       "      <th>2440</th>\n",
       "      <td>negative</td>\n",
       "      <td>negative</td>\n",
       "      <td>negative</td>\n",
       "    </tr>\n",
       "    <tr>\n",
       "      <th>2441</th>\n",
       "      <td>negative</td>\n",
       "      <td>negative</td>\n",
       "      <td>negative</td>\n",
       "    </tr>\n",
       "  </tbody>\n",
       "</table>\n",
       "<p>2442 rows × 3 columns</p>\n",
       "</div>"
      ],
      "text/plain": [
       "      polarity textblob_sentiment vader_sentiment\n",
       "0     negative           negative        negative\n",
       "1     positive           negative        negative\n",
       "2     negative           negative        negative\n",
       "3     positive           negative        negative\n",
       "4     negative           negative        negative\n",
       "...        ...                ...             ...\n",
       "2437  positive           negative        negative\n",
       "2438  positive           negative        negative\n",
       "2439  positive           negative        negative\n",
       "2440  negative           negative        negative\n",
       "2441  negative           negative        negative\n",
       "\n",
       "[2442 rows x 3 columns]"
      ]
     },
     "execution_count": 43,
     "metadata": {},
     "output_type": "execute_result"
    }
   ],
   "source": [
    "data1 = data[['polarity', 'textblob_sentiment', 'vader_sentiment']]\n",
    "data1"
   ]
  },
  {
   "cell_type": "code",
   "execution_count": null,
   "id": "c037cb2a",
   "metadata": {},
   "outputs": [],
   "source": []
  }
 ],
 "metadata": {
  "kernelspec": {
   "display_name": "Python 3 (ipykernel)",
   "language": "python",
   "name": "python3"
  },
  "language_info": {
   "codemirror_mode": {
    "name": "ipython",
    "version": 3
   },
   "file_extension": ".py",
   "mimetype": "text/x-python",
   "name": "python",
   "nbconvert_exporter": "python",
   "pygments_lexer": "ipython3",
   "version": "3.9.12"
  }
 },
 "nbformat": 4,
 "nbformat_minor": 5
}
